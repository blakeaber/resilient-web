{
 "cells": [
  {
   "cell_type": "code",
   "execution_count": 1,
   "metadata": {},
   "outputs": [],
   "source": [
    "from src.sql_model import Sql"
   ]
  },
  {
   "cell_type": "code",
   "execution_count": 2,
   "metadata": {},
   "outputs": [],
   "source": [
    "sql = Sql()"
   ]
  },
  {
   "cell_type": "code",
   "execution_count": 4,
   "metadata": {},
   "outputs": [
    {
     "name": "stdout",
     "output_type": "stream",
     "text": [
      "{'program_id': 1, 'program': 'Knee', 'description': 'Overall program to address stiffness and immobility.', 'image_url': 'https://cdn1.vectorstock.com/i/1000x1000/67/40/knee-pain-thin-line-icon-body-and-sick-leg-ache-vector-25616740.jpg'}\n",
      "{'program_id': 2, 'program': 'Hip / Lower Back', 'description': 'Overall program to address stiffness and immobility.', 'image_url': 'https://cdn1.vectorstock.com/i/1000x1000/68/90/spine-pain-line-icon-body-and-painful-back-ache-vector-25616890.jpg'}\n",
      "{'program_id': 3, 'program': 'Shoulder / Upper Back / Neck', 'description': 'Overall program to address stiffness and immobility.', 'image_url': 'https://encrypted-tbn0.gstatic.com/images?q=tbn%3AANd9GcSkoB2z-cYAToKvlQRkhPz4rOOO2HpI78t_7qSHf-KS5Wj8_fS8&usqp=CAU'}\n"
     ]
    }
   ],
   "source": [
    "for item in sql.select('select * from programs'):\n",
    "    print(dict(item))"
   ]
  },
  {
   "cell_type": "code",
   "execution_count": null,
   "metadata": {},
   "outputs": [],
   "source": []
  }
 ],
 "metadata": {
  "kernelspec": {
   "display_name": "Python 3",
   "language": "python",
   "name": "python3"
  },
  "language_info": {
   "codemirror_mode": {
    "name": "ipython",
    "version": 3
   },
   "file_extension": ".py",
   "mimetype": "text/x-python",
   "name": "python",
   "nbconvert_exporter": "python",
   "pygments_lexer": "ipython3",
   "version": "3.7.4"
  }
 },
 "nbformat": 4,
 "nbformat_minor": 2
}
