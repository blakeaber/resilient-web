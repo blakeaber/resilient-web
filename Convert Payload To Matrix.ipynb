{
 "cells": [
  {
   "cell_type": "code",
   "execution_count": 14,
   "metadata": {},
   "outputs": [],
   "source": [
    "import json\n",
    "import pandas as pd\n",
    "import numpy as np\n",
    "from feedback import inch_worm, logic, utils"
   ]
  },
  {
   "cell_type": "code",
   "execution_count": 15,
   "metadata": {},
   "outputs": [],
   "source": [
    "with open('./feedback/payload.json', 'r') as f:\n",
    "    payload = json.load(f)"
   ]
  },
  {
   "cell_type": "code",
   "execution_count": 16,
   "metadata": {},
   "outputs": [],
   "source": [
    "# with open('./feedback/payload.json', 'w') as f:\n",
    "#     json.dump(payload, f)"
   ]
  },
  {
   "cell_type": "code",
   "execution_count": 38,
   "metadata": {},
   "outputs": [],
   "source": [
    "def check_for_vertical_arms(input_df):\n",
    "    def get_joint_angles(joint1, joint2):\n",
    "        return input_df.apply(\n",
    "            lambda row: logic.angle_between_joints(\n",
    "                row, \n",
    "                joint1, \n",
    "                joint2\n",
    "            ), \n",
    "            axis=1\n",
    "        )\n",
    "\n",
    "    left_arm_low = get_joint_angles('leftWrist', 'leftElbow')\n",
    "    left_arm_high = get_joint_angles('leftElbow', 'leftShoulder')\n",
    "    right_arm_low = get_joint_angles('rightWrist', 'rightElbow')\n",
    "    right_arm_high = get_joint_angles('rightElbow', 'rightShoulder')\n",
    "    arm_values = pd.concat([left_arm_low, left_arm_high, right_arm_low, right_arm_high])\n",
    "    mean_arm_angle, std_arm_angle = arm_values.mean(), arm_values.std()\n",
    "\n",
    "    left_leg_low = get_joint_angles('leftAnkle', 'leftKnee')\n",
    "    left_leg_high = get_joint_angles('leftKnee', 'leftHip')\n",
    "    right_leg_low = get_joint_angles('rightAnkle', 'rightKnee')\n",
    "    right_leg_high = get_joint_angles('rightKnee', 'rightHip')\n",
    "    leg_values = pd.concat([left_leg_low, left_leg_high, right_leg_low, right_leg_high])\n",
    "    mean_leg_angle, std_leg_angle = leg_values.mean(), leg_values.std()\n",
    "    \n",
    "    return {\n",
    "        'left-wrist-left-elbow-angle': get_joint_angles('leftWrist', 'leftElbow').mean(),\n",
    "        'left-elbow-left-shoulder-angle': get_joint_angles('leftElbow', 'leftShoulder').mean(),\n",
    "        'right-wrist-right-elbow-angle': get_joint_angles('rightWrist', 'rightElbow').mean(),\n",
    "        'right-elbow-right-shoulder-angle': get_joint_angles('rightElbow', 'rightShoulder').mean(),\n",
    "        'average-arm-angle': mean_arm_angle,\n",
    "        'error-arm-angle': std_arm_angle,\n",
    "        'left-ankle-left-knee-angle': get_joint_angles('leftAnkle', 'leftKnee').mean(),\n",
    "        'left-knee-left-hip-angle': get_joint_angles('leftKnee', 'leftHip').mean(),\n",
    "        'right-ankle-right-knee-angle': get_joint_angles('rightAnkle', 'rightKnee').mean(),\n",
    "        'right-knee-right-hip-angle': get_joint_angles('rightKnee', 'rightHip').mean(),\n",
    "        'average-leg-angle': mean_leg_angle,\n",
    "        'error-leg-angle': std_leg_angle\n",
    "    }"
   ]
  },
  {
   "cell_type": "code",
   "execution_count": 39,
   "metadata": {},
   "outputs": [],
   "source": [
    "input_df = utils.transform_keypoint_payload(payload)"
   ]
  },
  {
   "cell_type": "code",
   "execution_count": 40,
   "metadata": {},
   "outputs": [
    {
     "data": {
      "text/plain": [
       "{'left-wrist-left-elbow-angle': -175.17931248291808,\n",
       " 'left-elbow-left-shoulder-angle': 0.9040302672570248,\n",
       " 'right-wrist-right-elbow-angle': -109.62000354698935,\n",
       " 'right-elbow-right-shoulder-angle': -14.506568814520403,\n",
       " 'average-arm-angle': -74.60046364429272,\n",
       " 'error-arm-angle': 72.77411100206713,\n",
       " 'left-ankle-left-knee-angle': -76.66921969622612,\n",
       " 'left-knee-left-hip-angle': -109.90379767041551,\n",
       " 'right-ankle-right-knee-angle': -90.06264984193986,\n",
       " 'right-knee-right-hip-angle': -61.51952978321869,\n",
       " 'average-leg-angle': -84.53879924795004,\n",
       " 'error-leg-angle': 18.015044420671714}"
      ]
     },
     "execution_count": 40,
     "metadata": {},
     "output_type": "execute_result"
    }
   ],
   "source": [
    "check_for_vertical_arms(input_df)"
   ]
  },
  {
   "cell_type": "code",
   "execution_count": null,
   "metadata": {},
   "outputs": [],
   "source": []
  },
  {
   "cell_type": "code",
   "execution_count": null,
   "metadata": {},
   "outputs": [],
   "source": []
  },
  {
   "cell_type": "code",
   "execution_count": null,
   "metadata": {},
   "outputs": [],
   "source": []
  },
  {
   "cell_type": "code",
   "execution_count": null,
   "metadata": {},
   "outputs": [],
   "source": []
  },
  {
   "cell_type": "code",
   "execution_count": null,
   "metadata": {},
   "outputs": [],
   "source": []
  },
  {
   "cell_type": "code",
   "execution_count": null,
   "metadata": {},
   "outputs": [],
   "source": []
  },
  {
   "cell_type": "code",
   "execution_count": null,
   "metadata": {},
   "outputs": [],
   "source": []
  },
  {
   "cell_type": "code",
   "execution_count": null,
   "metadata": {},
   "outputs": [],
   "source": []
  },
  {
   "cell_type": "code",
   "execution_count": null,
   "metadata": {},
   "outputs": [],
   "source": []
  },
  {
   "cell_type": "code",
   "execution_count": null,
   "metadata": {},
   "outputs": [],
   "source": []
  },
  {
   "cell_type": "code",
   "execution_count": null,
   "metadata": {},
   "outputs": [],
   "source": []
  },
  {
   "cell_type": "code",
   "execution_count": null,
   "metadata": {},
   "outputs": [],
   "source": [
    "{\n",
    "        'statusCode': 200,\n",
    "        'feedback': {\n",
    "            'user': {\n",
    "                'text-to-speech': json.dumps(get_feedback())\n",
    "            },\n",
    "            'system': {\n",
    "                'detection-failing-flag': json.dumps(detection_is_failing())\n",
    "            }\n",
    "        }\n",
    "    }"
   ]
  },
  {
   "cell_type": "code",
   "execution_count": null,
   "metadata": {},
   "outputs": [],
   "source": []
  },
  {
   "cell_type": "code",
   "execution_count": null,
   "metadata": {},
   "outputs": [],
   "source": []
  }
 ],
 "metadata": {
  "kernelspec": {
   "display_name": "Python 3",
   "language": "python",
   "name": "python3"
  },
  "language_info": {
   "codemirror_mode": {
    "name": "ipython",
    "version": 3
   },
   "file_extension": ".py",
   "mimetype": "text/x-python",
   "name": "python",
   "nbconvert_exporter": "python",
   "pygments_lexer": "ipython3",
   "version": "3.7.4"
  }
 },
 "nbformat": 4,
 "nbformat_minor": 2
}
